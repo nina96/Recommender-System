{
 "cells": [
  {
   "cell_type": "code",
   "execution_count": 1,
   "id": "3dca7e8d-8146-4867-9979-89f1021e0f8f",
   "metadata": {},
   "outputs": [],
   "source": [
    "import pandas as pd\n",
    "import numpy as np"
   ]
  },
  {
   "cell_type": "code",
   "execution_count": 9,
   "id": "1a6ab050-e28d-416b-bdd7-e3e0580ef44d",
   "metadata": {},
   "outputs": [],
   "source": [
    "df_movie=pd.read_csv('Recommend.csv', header=None, names=['User_Id','Movie_Id','Rating','Timestap'])"
   ]
  },
  {
   "cell_type": "code",
   "execution_count": 10,
   "id": "dce498dd-a5fd-4361-90e3-d951559a74ae",
   "metadata": {},
   "outputs": [
    {
     "data": {
      "text/html": [
       "<div>\n",
       "<style scoped>\n",
       "    .dataframe tbody tr th:only-of-type {\n",
       "        vertical-align: middle;\n",
       "    }\n",
       "\n",
       "    .dataframe tbody tr th {\n",
       "        vertical-align: top;\n",
       "    }\n",
       "\n",
       "    .dataframe thead th {\n",
       "        text-align: right;\n",
       "    }\n",
       "</style>\n",
       "<table border=\"1\" class=\"dataframe\">\n",
       "  <thead>\n",
       "    <tr style=\"text-align: right;\">\n",
       "      <th></th>\n",
       "      <th>User_Id</th>\n",
       "      <th>Movie_Id</th>\n",
       "      <th>Rating</th>\n",
       "      <th>Timestap</th>\n",
       "    </tr>\n",
       "  </thead>\n",
       "  <tbody>\n",
       "    <tr>\n",
       "      <th>0</th>\n",
       "      <td>196</td>\n",
       "      <td>242</td>\n",
       "      <td>3</td>\n",
       "      <td>881250949</td>\n",
       "    </tr>\n",
       "    <tr>\n",
       "      <th>1</th>\n",
       "      <td>186</td>\n",
       "      <td>302</td>\n",
       "      <td>3</td>\n",
       "      <td>891717742</td>\n",
       "    </tr>\n",
       "    <tr>\n",
       "      <th>2</th>\n",
       "      <td>22</td>\n",
       "      <td>377</td>\n",
       "      <td>1</td>\n",
       "      <td>878887116</td>\n",
       "    </tr>\n",
       "    <tr>\n",
       "      <th>3</th>\n",
       "      <td>244</td>\n",
       "      <td>51</td>\n",
       "      <td>2</td>\n",
       "      <td>880606923</td>\n",
       "    </tr>\n",
       "    <tr>\n",
       "      <th>4</th>\n",
       "      <td>166</td>\n",
       "      <td>346</td>\n",
       "      <td>1</td>\n",
       "      <td>886397596</td>\n",
       "    </tr>\n",
       "  </tbody>\n",
       "</table>\n",
       "</div>"
      ],
      "text/plain": [
       "   User_Id  Movie_Id  Rating   Timestap\n",
       "0      196       242       3  881250949\n",
       "1      186       302       3  891717742\n",
       "2       22       377       1  878887116\n",
       "3      244        51       2  880606923\n",
       "4      166       346       1  886397596"
      ]
     },
     "execution_count": 10,
     "metadata": {},
     "output_type": "execute_result"
    }
   ],
   "source": [
    "df_movie.head()"
   ]
  },
  {
   "cell_type": "code",
   "execution_count": 11,
   "id": "16aa0866-9f82-48e4-80a6-507d0fd2a07d",
   "metadata": {},
   "outputs": [],
   "source": [
    "from sklearn. model_selection import train_test_split\n",
    "n_users=df_movie.User_Id.unique().shape[0]\n",
    "n_movies=df_movie.Movie_Id.unique().shape[0]\n",
    "\n",
    "train_data, test_data=train_test_split(df_movie,test_size=0.25)\n"
   ]
  },
  {
   "cell_type": "code",
   "execution_count": 13,
   "id": "52f1c11b-60c8-46b7-bbc8-3713c88a749f",
   "metadata": {},
   "outputs": [
    {
     "data": {
      "text/plain": [
       "array([[5., 3., 4., ..., 0., 0., 0.],\n",
       "       [4., 0., 0., ..., 0., 0., 0.],\n",
       "       [0., 0., 0., ..., 0., 0., 0.],\n",
       "       ...,\n",
       "       [5., 0., 0., ..., 0., 0., 0.],\n",
       "       [0., 0., 0., ..., 0., 0., 0.],\n",
       "       [0., 5., 0., ..., 0., 0., 0.]])"
      ]
     },
     "execution_count": 13,
     "metadata": {},
     "output_type": "execute_result"
    }
   ],
   "source": [
    "train_data_matrix=np.zeros((n_users,n_movies))\n",
    "for line in train_data.itertuples():\n",
    "    train_data_matrix[line[1]-1, line[2]-1]=line[3]\n",
    "train_data_matrix"
   ]
  },
  {
   "cell_type": "code",
   "execution_count": 15,
   "id": "f4e9c819-a178-471a-a696-afab3d1162aa",
   "metadata": {},
   "outputs": [
    {
     "data": {
      "text/plain": [
       "array([[0., 0., 0., ..., 0., 0., 0.],\n",
       "       [0., 0., 0., ..., 0., 0., 0.],\n",
       "       [0., 0., 0., ..., 0., 0., 0.],\n",
       "       ...,\n",
       "       [0., 0., 0., ..., 0., 0., 0.],\n",
       "       [0., 0., 0., ..., 0., 0., 0.],\n",
       "       [0., 0., 0., ..., 0., 0., 0.]])"
      ]
     },
     "execution_count": 15,
     "metadata": {},
     "output_type": "execute_result"
    }
   ],
   "source": [
    "test_data_matrix=np.zeros((n_users,n_movies))\n",
    "for line in test_data.itertuples():\n",
    "    test_data_matrix[line[1]-1,line[2]-1]=line[3]\n",
    "test_data_matrix"
   ]
  },
  {
   "cell_type": "code",
   "execution_count": 18,
   "id": "76ccbcd0-8253-4ab4-9628-7739529c8115",
   "metadata": {},
   "outputs": [
    {
     "data": {
      "text/plain": [
       "array([[ 1.60385854e+00,  5.65158194e-01,  4.78955183e-01, ...,\n",
       "         3.05060062e-01,  3.07695349e-01,  3.07190413e-01],\n",
       "       [ 1.32518272e+00,  2.65301279e-01,  1.31792183e-01, ...,\n",
       "        -6.27939286e-02, -5.96238389e-02, -5.93974574e-02],\n",
       "       [ 1.35335896e+00,  2.26891752e-01,  1.07143174e-01, ...,\n",
       "        -9.63731746e-02, -9.30850842e-02, -9.29913893e-02],\n",
       "       ...,\n",
       "       [ 1.19861635e+00,  1.84459312e-01,  6.14289964e-02, ...,\n",
       "        -1.29519731e-01, -1.26378738e-01, -1.26364346e-01],\n",
       "       [ 1.38771883e+00,  2.98807428e-01,  1.95757435e-01, ...,\n",
       "        -2.56702385e-03,  3.39122895e-04,  5.24109331e-04],\n",
       "       [ 1.40928400e+00,  3.36001429e-01,  2.58566579e-01, ...,\n",
       "         7.95294683e-02,  8.20515013e-02,  8.19696990e-02]])"
      ]
     },
     "execution_count": 18,
     "metadata": {},
     "output_type": "execute_result"
    }
   ],
   "source": [
    "from sklearn.metrics import pairwise_distances\n",
    "user_similar=pairwise_distances(train_data_matrix, metric='cosine')\n",
    "movie_similar=pairwise_distances(train_data_matrix.T, metric='cosine')\n",
    "mean_user=train_data_matrix.mean(axis=1)[:,np.newaxis]\n",
    "ratings_differ= (train_data_matrix-mean_user)\n",
    "user_pred=mean_user+user_similar.dot(ratings_differ)/np.array([np.abs(user_similar).sum(axis=1)]).T\n",
    "\n",
    "user_pred"
   ]
  },
  {
   "cell_type": "code",
   "execution_count": null,
   "id": "f7e6aaf5-0e53-44d0-9ac0-ced0449c1010",
   "metadata": {},
   "outputs": [],
   "source": []
  }
 ],
 "metadata": {
  "kernelspec": {
   "display_name": "Python 3 (ipykernel)",
   "language": "python",
   "name": "python3"
  },
  "language_info": {
   "codemirror_mode": {
    "name": "ipython",
    "version": 3
   },
   "file_extension": ".py",
   "mimetype": "text/x-python",
   "name": "python",
   "nbconvert_exporter": "python",
   "pygments_lexer": "ipython3",
   "version": "3.9.7"
  }
 },
 "nbformat": 4,
 "nbformat_minor": 5
}
